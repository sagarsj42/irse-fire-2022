{
 "cells": [
  {
   "cell_type": "code",
   "execution_count": 1,
   "metadata": {},
   "outputs": [],
   "source": [
    "import os\n",
    "os.chdir('/scratch/sagarsj42')"
   ]
  },
  {
   "cell_type": "code",
   "execution_count": 2,
   "metadata": {},
   "outputs": [],
   "source": [
    "import pandas as pd"
   ]
  },
  {
   "cell_type": "code",
   "execution_count": 4,
   "metadata": {},
   "outputs": [
    {
     "name": "stdout",
     "output_type": "stream",
     "text": [
      "<class 'pandas.core.frame.DataFrame'>\n",
      "RangeIndex: 8657 entries, 0 to 8656\n",
      "Data columns (total 5 columns):\n",
      " #   Column                    Non-Null Count  Dtype  \n",
      "---  ------                    --------------  -----  \n",
      " 0   Unnamed: 0                8657 non-null   int64  \n",
      " 1   Comments                  8657 non-null   object \n",
      " 2   Surrounding Code Context  8657 non-null   object \n",
      " 3   Class                     8657 non-null   object \n",
      " 4   Unnamed: 4                2 non-null      float64\n",
      "dtypes: float64(1), int64(1), object(3)\n",
      "memory usage: 338.3+ KB\n",
      "None\n"
     ]
    },
    {
     "data": {
      "text/html": [
       "<div>\n",
       "<style scoped>\n",
       "    .dataframe tbody tr th:only-of-type {\n",
       "        vertical-align: middle;\n",
       "    }\n",
       "\n",
       "    .dataframe tbody tr th {\n",
       "        vertical-align: top;\n",
       "    }\n",
       "\n",
       "    .dataframe thead th {\n",
       "        text-align: right;\n",
       "    }\n",
       "</style>\n",
       "<table border=\"1\" class=\"dataframe\">\n",
       "  <thead>\n",
       "    <tr style=\"text-align: right;\">\n",
       "      <th></th>\n",
       "      <th>Unnamed: 0</th>\n",
       "      <th>Comments</th>\n",
       "      <th>Surrounding Code Context</th>\n",
       "      <th>Class</th>\n",
       "      <th>Unnamed: 4</th>\n",
       "    </tr>\n",
       "  </thead>\n",
       "  <tbody>\n",
       "    <tr>\n",
       "      <th>0</th>\n",
       "      <td>1</td>\n",
       "      <td>/*test 529*/</td>\n",
       "      <td>-10.   int res = 0;\\n-9.   CURL *curl = NULL;\\...</td>\n",
       "      <td>Not Useful</td>\n",
       "      <td>NaN</td>\n",
       "    </tr>\n",
       "    <tr>\n",
       "      <th>1</th>\n",
       "      <td>2</td>\n",
       "      <td>/*test 525*/</td>\n",
       "      <td>-2.     fprintf(stderr, \"Usage: lib529 [url] [...</td>\n",
       "      <td>Not Useful</td>\n",
       "      <td>NaN</td>\n",
       "    </tr>\n",
       "    <tr>\n",
       "      <th>2</th>\n",
       "      <td>3</td>\n",
       "      <td>/*done*/</td>\n",
       "      <td>-10.   multi_add_handle(m, curl);\\n-9.   for(;...</td>\n",
       "      <td>Not Useful</td>\n",
       "      <td>NaN</td>\n",
       "    </tr>\n",
       "    <tr>\n",
       "      <th>3</th>\n",
       "      <td>4</td>\n",
       "      <td>/*test 529*/</td>\n",
       "      <td>-10.   int res = 0;\\n-9.   CURL *curl = NULL;\\...</td>\n",
       "      <td>Not Useful</td>\n",
       "      <td>NaN</td>\n",
       "    </tr>\n",
       "    <tr>\n",
       "      <th>4</th>\n",
       "      <td>5</td>\n",
       "      <td>/*test 525*/</td>\n",
       "      <td>-2.     fprintf(stderr, \"Usage: lib529 [url] [...</td>\n",
       "      <td>Not Useful</td>\n",
       "      <td>NaN</td>\n",
       "    </tr>\n",
       "    <tr>\n",
       "      <th>5</th>\n",
       "      <td>6</td>\n",
       "      <td>/*argv1 = URL\\n * argv2 = proxy\\n * argv3 = no...</td>\n",
       "      <td>-9.  *\\n-8.  * You may opt to use, copy, modif...</td>\n",
       "      <td>Not Useful</td>\n",
       "      <td>NaN</td>\n",
       "    </tr>\n",
       "    <tr>\n",
       "      <th>6</th>\n",
       "      <td>7</td>\n",
       "      <td>/*enable ascii/text mode*/</td>\n",
       "      <td>-10.   if(!curl) {\\n-9.     fprintf(stderr, \"c...</td>\n",
       "      <td>Not Useful</td>\n",
       "      <td>NaN</td>\n",
       "    </tr>\n",
       "    <tr>\n",
       "      <th>7</th>\n",
       "      <td>8</td>\n",
       "      <td>/*100 ms*/</td>\n",
       "      <td>-10.   multi_add_handle(mhandle, handle);\\n-9....</td>\n",
       "      <td>Not Useful</td>\n",
       "      <td>NaN</td>\n",
       "    </tr>\n",
       "    <tr>\n",
       "      <th>8</th>\n",
       "      <td>9</td>\n",
       "      <td>/*on failure don't abort just issue a warning*/</td>\n",
       "      <td>-10.    * point the resulting soft limit is ou...</td>\n",
       "      <td>Not Useful</td>\n",
       "      <td>NaN</td>\n",
       "    </tr>\n",
       "    <tr>\n",
       "      <th>9</th>\n",
       "      <td>10</td>\n",
       "      <td>/*on failure don't abort just issue a warning*/</td>\n",
       "      <td>-10.    * point the resulting soft limit is ou...</td>\n",
       "      <td>Not Useful</td>\n",
       "      <td>NaN</td>\n",
       "    </tr>\n",
       "  </tbody>\n",
       "</table>\n",
       "</div>"
      ],
      "text/plain": [
       "   Unnamed: 0                                           Comments  \\\n",
       "0           1                                       /*test 529*/   \n",
       "1           2                                       /*test 525*/   \n",
       "2           3                                           /*done*/   \n",
       "3           4                                       /*test 529*/   \n",
       "4           5                                       /*test 525*/   \n",
       "5           6  /*argv1 = URL\\n * argv2 = proxy\\n * argv3 = no...   \n",
       "6           7                         /*enable ascii/text mode*/   \n",
       "7           8                                         /*100 ms*/   \n",
       "8           9    /*on failure don't abort just issue a warning*/   \n",
       "9          10    /*on failure don't abort just issue a warning*/   \n",
       "\n",
       "                            Surrounding Code Context       Class  Unnamed: 4  \n",
       "0  -10.   int res = 0;\\n-9.   CURL *curl = NULL;\\...  Not Useful         NaN  \n",
       "1  -2.     fprintf(stderr, \"Usage: lib529 [url] [...  Not Useful         NaN  \n",
       "2  -10.   multi_add_handle(m, curl);\\n-9.   for(;...  Not Useful         NaN  \n",
       "3  -10.   int res = 0;\\n-9.   CURL *curl = NULL;\\...  Not Useful         NaN  \n",
       "4  -2.     fprintf(stderr, \"Usage: lib529 [url] [...  Not Useful         NaN  \n",
       "5  -9.  *\\n-8.  * You may opt to use, copy, modif...  Not Useful         NaN  \n",
       "6  -10.   if(!curl) {\\n-9.     fprintf(stderr, \"c...  Not Useful         NaN  \n",
       "7  -10.   multi_add_handle(mhandle, handle);\\n-9....  Not Useful         NaN  \n",
       "8  -10.    * point the resulting soft limit is ou...  Not Useful         NaN  \n",
       "9  -10.    * point the resulting soft limit is ou...  Not Useful         NaN  "
      ]
     },
     "execution_count": 4,
     "metadata": {},
     "output_type": "execute_result"
    }
   ],
   "source": [
    "irse_df = pd.read_csv('IRSE_FIRE_2022_Track_Training_Data.csv')\n",
    "\n",
    "print(irse_df.info())\n",
    "\n",
    "irse_df.head(10)"
   ]
  },
  {
   "cell_type": "code",
   "execution_count": 17,
   "metadata": {},
   "outputs": [
    {
     "name": "stdout",
     "output_type": "stream",
     "text": [
      "/*on failure don't abort just issue a warning*/\n",
      "-10.    * point the resulting soft limit is our limit. Trying to\n",
      "-9.    * open more than soft limit file descriptors will fail.\n",
      "-8.    */\n",
      "-7.   if(rl.rlim_cur != rl.rlim_max) {\n",
      "-6. #ifdef OPEN_MAX\n",
      "-5.     if((rl.rlim_cur > 0) &&\n",
      "-4.         (rl.rlim_cur < OPEN_MAX)) {\n",
      "-3.       fprintf(stderr, \"raising soft limit up to OPEN_MAX\\n\");\n",
      "-2.       rl.rlim_cur = OPEN_MAX;\n",
      "-1.       if(setrlimit(RLIMIT_NOFILE, &rl) != 0) {\n",
      "\n",
      "/*on failure don't abort just issue a warning*/\n",
      "\n",
      "1.         store_errmsg(\"setrlimit() failed\", errno);\n",
      "2.         fprintf(stderr, \"%s\\n\", msgbuff);\n",
      "3.         msgbuff[0] = '\\0';\n",
      "4.       }\n",
      "5.     }\n",
      "6. #endif\n",
      "7.     fprintf(stderr, \"raising soft limit up to hard limit\\n\");\n",
      "8.     rl.rlim_cur = rl.rlim_max;\n",
      "9.     if(setrlimit(RLIMIT_NOFILE, &rl) != 0) {\n"
     ]
    }
   ],
   "source": [
    "i = 8\n",
    "print(irse_df.iloc[i]['Comments'])\n",
    "\n",
    "print(irse_df.iloc[i]['Surrounding Code Context'])"
   ]
  },
  {
   "cell_type": "code",
   "execution_count": 15,
   "metadata": {},
   "outputs": [
    {
     "name": "stdout",
     "output_type": "stream",
     "text": [
      "/*on failure don't abort just issue a warning*/\n",
      "-10.    * point the resulting soft limit is our limit. Trying to\n",
      "-9.    * open more than soft limit file descriptors will fail.\n",
      "-8.    */\n",
      "-7.   if(rl.rlim_cur != rl.rlim_max) {\n",
      "-6. #ifdef OPEN_MAX\n",
      "-5.     if((rl.rlim_cur > 0) &&\n",
      "-4.         (rl.rlim_cur < OPEN_MAX)) {\n",
      "-3.       fprintf(stderr, \"raising soft limit up to OPEN_MAX\\n\");\n",
      "-2.       rl.rlim_cur = OPEN_MAX;\n",
      "-1.       if(setrlimit(RLIMIT_NOFILE, &rl) != 0) {\n",
      "\n",
      "/*on failure don't abort just issue a warning*/\n",
      "\n",
      "1.         store_errmsg(\"setrlimit() failed\", errno);\n",
      "2.         fprintf(stderr, \"%s\\n\", msgbuff);\n",
      "3.         msgbuff[0] = '\\0';\n",
      "4.       }\n",
      "5.     }\n",
      "6. #endif\n",
      "7.     fprintf(stderr, \"raising soft limit up to hard limit\\n\");\n",
      "8.     rl.rlim_cur = rl.rlim_max;\n",
      "9.     if(setrlimit(RLIMIT_NOFILE, &rl) != 0) {\n"
     ]
    }
   ],
   "source": [
    "i = 9\n",
    "print(irse_df.iloc[i]['Comments'])\n",
    "\n",
    "print(irse_df.iloc[i]['Surrounding Code Context'])"
   ]
  },
  {
   "cell_type": "code",
   "execution_count": 23,
   "metadata": {},
   "outputs": [
    {
     "data": {
      "text/html": [
       "<div>\n",
       "<style scoped>\n",
       "    .dataframe tbody tr th:only-of-type {\n",
       "        vertical-align: middle;\n",
       "    }\n",
       "\n",
       "    .dataframe tbody tr th {\n",
       "        vertical-align: top;\n",
       "    }\n",
       "\n",
       "    .dataframe thead th {\n",
       "        text-align: right;\n",
       "    }\n",
       "</style>\n",
       "<table border=\"1\" class=\"dataframe\">\n",
       "  <thead>\n",
       "    <tr style=\"text-align: right;\">\n",
       "      <th></th>\n",
       "      <th>Comments</th>\n",
       "      <th>Surrounding Code Context</th>\n",
       "    </tr>\n",
       "  </thead>\n",
       "  <tbody>\n",
       "    <tr>\n",
       "      <th>0</th>\n",
       "      <td>/*test 529*/</td>\n",
       "      <td>-10.   int res = 0;\\n-9.   CURL *curl = NULL;\\...</td>\n",
       "    </tr>\n",
       "    <tr>\n",
       "      <th>1</th>\n",
       "      <td>/*test 525*/</td>\n",
       "      <td>-2.     fprintf(stderr, \"Usage: lib529 [url] [...</td>\n",
       "    </tr>\n",
       "    <tr>\n",
       "      <th>2</th>\n",
       "      <td>/*done*/</td>\n",
       "      <td>-10.   multi_add_handle(m, curl);\\n-9.   for(;...</td>\n",
       "    </tr>\n",
       "    <tr>\n",
       "      <th>5</th>\n",
       "      <td>/*argv1 = URL\\n * argv2 = proxy\\n * argv3 = no...</td>\n",
       "      <td>-9.  *\\n-8.  * You may opt to use, copy, modif...</td>\n",
       "    </tr>\n",
       "    <tr>\n",
       "      <th>6</th>\n",
       "      <td>/*enable ascii/text mode*/</td>\n",
       "      <td>-10.   if(!curl) {\\n-9.     fprintf(stderr, \"c...</td>\n",
       "    </tr>\n",
       "    <tr>\n",
       "      <th>...</th>\n",
       "      <td>...</td>\n",
       "      <td>...</td>\n",
       "    </tr>\n",
       "    <tr>\n",
       "      <th>8652</th>\n",
       "      <td>/*shape values and derivatives\\nat new p_unit ...</td>\n",
       "      <td>nan\\n\\n\\n /*shape values and derivatives\\nat n...</td>\n",
       "    </tr>\n",
       "    <tr>\n",
       "      <th>8653</th>\n",
       "      <td>/*see if we are making progress with the curre...</td>\n",
       "      <td>nan\\n\\n\\n /*see if we are making progress with...</td>\n",
       "    </tr>\n",
       "    <tr>\n",
       "      <th>8654</th>\n",
       "      <td>/*Evaluate first and second derivatives*/</td>\n",
       "      <td>nan\\n\\n\\n /*Evaluate first and second derivati...</td>\n",
       "    </tr>\n",
       "    <tr>\n",
       "      <th>8655</th>\n",
       "      <td>/*TODO: implement a line search here in much t...</td>\n",
       "      <td>nan\\n\\n\\n /*TODO: implement a line search here...</td>\n",
       "    </tr>\n",
       "    <tr>\n",
       "      <th>8656</th>\n",
       "      <td>/*Here we check that in the last execution of ...</td>\n",
       "      <td>nan\\n\\n\\n /*Here we check that in the last exe...</td>\n",
       "    </tr>\n",
       "  </tbody>\n",
       "</table>\n",
       "<p>6365 rows × 2 columns</p>\n",
       "</div>"
      ],
      "text/plain": [
       "                                               Comments  \\\n",
       "0                                          /*test 529*/   \n",
       "1                                          /*test 525*/   \n",
       "2                                              /*done*/   \n",
       "5     /*argv1 = URL\\n * argv2 = proxy\\n * argv3 = no...   \n",
       "6                            /*enable ascii/text mode*/   \n",
       "...                                                 ...   \n",
       "8652  /*shape values and derivatives\\nat new p_unit ...   \n",
       "8653  /*see if we are making progress with the curre...   \n",
       "8654          /*Evaluate first and second derivatives*/   \n",
       "8655  /*TODO: implement a line search here in much t...   \n",
       "8656  /*Here we check that in the last execution of ...   \n",
       "\n",
       "                               Surrounding Code Context  \n",
       "0     -10.   int res = 0;\\n-9.   CURL *curl = NULL;\\...  \n",
       "1     -2.     fprintf(stderr, \"Usage: lib529 [url] [...  \n",
       "2     -10.   multi_add_handle(m, curl);\\n-9.   for(;...  \n",
       "5     -9.  *\\n-8.  * You may opt to use, copy, modif...  \n",
       "6     -10.   if(!curl) {\\n-9.     fprintf(stderr, \"c...  \n",
       "...                                                 ...  \n",
       "8652  nan\\n\\n\\n /*shape values and derivatives\\nat n...  \n",
       "8653  nan\\n\\n\\n /*see if we are making progress with...  \n",
       "8654  nan\\n\\n\\n /*Evaluate first and second derivati...  \n",
       "8655  nan\\n\\n\\n /*TODO: implement a line search here...  \n",
       "8656  nan\\n\\n\\n /*Here we check that in the last exe...  \n",
       "\n",
       "[6365 rows x 2 columns]"
      ]
     },
     "execution_count": 23,
     "metadata": {},
     "output_type": "execute_result"
    }
   ],
   "source": [
    "irse_df[['Comments', 'Surrounding Code Context']].drop_duplicates()"
   ]
  },
  {
   "cell_type": "code",
   "execution_count": 22,
   "metadata": {},
   "outputs": [
    {
     "data": {
      "text/plain": [
       "0                                            /*test 529*/\n",
       "1                                            /*test 525*/\n",
       "2                                                /*done*/\n",
       "5       /*argv1 = URL\\n * argv2 = proxy\\n * argv3 = no...\n",
       "6                              /*enable ascii/text mode*/\n",
       "                              ...                        \n",
       "8651    /*update of p_unit. The spacedim-th component ...\n",
       "8653    /*see if we are making progress with the curre...\n",
       "8654            /*Evaluate first and second derivatives*/\n",
       "8655    /*TODO: implement a line search here in much t...\n",
       "8656    /*Here we check that in the last execution of ...\n",
       "Name: Comments, Length: 5341, dtype: object"
      ]
     },
     "execution_count": 22,
     "metadata": {},
     "output_type": "execute_result"
    }
   ],
   "source": [
    "irse_df['Comments'].drop_duplicates()"
   ]
  },
  {
   "cell_type": "code",
   "execution_count": 21,
   "metadata": {},
   "outputs": [
    {
     "data": {
      "text/plain": [
       "0       -10.   int res = 0;\\n-9.   CURL *curl = NULL;\\...\n",
       "1       -2.     fprintf(stderr, \"Usage: lib529 [url] [...\n",
       "2       -10.   multi_add_handle(m, curl);\\n-9.   for(;...\n",
       "5       -9.  *\\n-8.  * You may opt to use, copy, modif...\n",
       "6       -10.   if(!curl) {\\n-9.     fprintf(stderr, \"c...\n",
       "                              ...                        \n",
       "8652    nan\\n\\n\\n /*shape values and derivatives\\nat n...\n",
       "8653    nan\\n\\n\\n /*see if we are making progress with...\n",
       "8654    nan\\n\\n\\n /*Evaluate first and second derivati...\n",
       "8655    nan\\n\\n\\n /*TODO: implement a line search here...\n",
       "8656    nan\\n\\n\\n /*Here we check that in the last exe...\n",
       "Name: Surrounding Code Context, Length: 6365, dtype: object"
      ]
     },
     "execution_count": 21,
     "metadata": {},
     "output_type": "execute_result"
    }
   ],
   "source": [
    "irse_df['Surrounding Code Context'].drop_duplicates()"
   ]
  },
  {
   "cell_type": "code",
   "execution_count": null,
   "metadata": {},
   "outputs": [],
   "source": []
  }
 ],
 "metadata": {
  "kernelspec": {
   "display_name": "Python 3.9.10 ('base')",
   "language": "python",
   "name": "python3"
  },
  "language_info": {
   "codemirror_mode": {
    "name": "ipython",
    "version": 3
   },
   "file_extension": ".py",
   "mimetype": "text/x-python",
   "name": "python",
   "nbconvert_exporter": "python",
   "pygments_lexer": "ipython3",
   "version": "3.9.10"
  },
  "orig_nbformat": 4,
  "vscode": {
   "interpreter": {
    "hash": "57ba542a7e01434f0efba8458620b8a5d586d5cdb58a6ff11a95f38e977018f2"
   }
  }
 },
 "nbformat": 4,
 "nbformat_minor": 2
}
